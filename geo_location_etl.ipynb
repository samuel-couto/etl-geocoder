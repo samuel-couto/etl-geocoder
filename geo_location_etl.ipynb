{
 "cells": [
  {
   "cell_type": "markdown",
   "id": "49797a1b",
   "metadata": {},
   "source": [
    "### Importando bibliotecas"
   ]
  },
  {
   "cell_type": "code",
   "execution_count": 1,
   "id": "11779697",
   "metadata": {},
   "outputs": [],
   "source": [
    "import pandas as pd\n",
    "from sqlalchemy import create_engine, VARCHAR, Integer\n",
    "import mysql.connector\n",
    "from geopy.geocoders import Nominatim\n",
    "import requests"
   ]
  },
  {
   "cell_type": "markdown",
   "id": "19cd3f7a",
   "metadata": {},
   "source": [
    "### Extraindo arquivo com a lista de ceps - Cidade Poços de Caldas"
   ]
  },
  {
   "cell_type": "code",
   "execution_count": 2,
   "id": "50ba31b0",
   "metadata": {},
   "outputs": [],
   "source": [
    "def cep():\n",
    "    # ler o arquivo xlsx\n",
    "    lista_cep = pd.read_excel('lista_cep.xlsx')\n",
    "    \n",
    "    # Extraio 13 caracteres da esquerda, a saida será CEP 37701-000\n",
    "    lista_cep['primeiros_treze'] = lista_cep['ceps'].str[:13]\n",
    "    \n",
    "    # Extraio agora os 9 caracteres do CEP\n",
    "    lista_cep['cep'] = lista_cep['primeiros_treze'].str[-9:]\n",
    "    \n",
    "    # As colunas 'ceps' e 'primeiros_teze' não são mais necessárias\n",
    "    lista_cep = lista_cep.drop(columns = ['ceps', 'primeiros_treze'])\n",
    "    \n",
    "    # Retiro o hifen\n",
    "    lista_cep = lista_cep['cep'].str.replace('-', '').replace(' ', '')\n",
    "    \n",
    "    lista_cep = list(lista_cep)\n",
    "    \n",
    "    return lista_cep"
   ]
  },
  {
   "cell_type": "markdown",
   "id": "08a1cb66",
   "metadata": {},
   "source": [
    "### Consumindo API Via CEP"
   ]
  },
  {
   "cell_type": "code",
   "execution_count": 3,
   "id": "86f9c0b4",
   "metadata": {},
   "outputs": [],
   "source": [
    "def consome_api(ceps):\n",
    "    \n",
    "    dados_ceps = []\n",
    "    \n",
    "    for cep in ceps:\n",
    "        # Define url\n",
    "        url = f'https://viacep.com.br/ws/{cep}/json/'\n",
    "\n",
    "        # Faz a requisição e formata em json\n",
    "        req = requests.get(url)\n",
    "        req = req.json()\n",
    "\n",
    "        # Extrai CEP, Localidade, Logradouro, UF e DDD\n",
    "        cep = req['cep']\n",
    "        localidade = req['localidade']\n",
    "        logradouro = req['logradouro']\n",
    "        uf = req['uf']\n",
    "        ddd = req['ddd']\n",
    "        log_loc = logradouro + ', ' + localidade\n",
    "\n",
    "        # DataFrame com as colunas\n",
    "        dados_ceps.append({ 'CEP': cep,\n",
    "                            'Localidade': localidade,\n",
    "                            'Logradouro': logradouro,\n",
    "                            'Endereco': log_loc,\n",
    "                            'UF': uf,\n",
    "                            'DDD': ddd})\n",
    "\n",
    "    df = pd.DataFrame(dados_ceps)\n",
    "\n",
    "\n",
    "    return df"
   ]
  },
  {
   "cell_type": "markdown",
   "id": "0a795906",
   "metadata": {},
   "source": [
    "### Extraindo Coordenadas"
   ]
  },
  {
   "cell_type": "code",
   "execution_count": 4,
   "id": "4b1e928a",
   "metadata": {},
   "outputs": [],
   "source": [
    "def geocoder():\n",
    "    \n",
    "    # Chamamos a funcao consome api para usarmos o dataframe retornado por ela\n",
    "    lista_cep = cep()\n",
    "    dados_consome_api = consome_api(lista_cep)\n",
    "        \n",
    "    coordenadas_df = []\n",
    "    \n",
    "    for i in dados_consome_api['Endereco']:\n",
    "        \n",
    "        # Inicializa o geopy\n",
    "        geo = Nominatim(user_agent = 'My-Geo')\n",
    "        \n",
    "        # Cria o endereço e executa a consulta\n",
    "        location = geo.geocode(i)\n",
    "        \n",
    "        if location:\n",
    "            \n",
    "            # Coordenadas\n",
    "            lat = location.latitude\n",
    "            lon = location.longitude\n",
    "\n",
    "            coordenadas_df.append({'Latitude': lat,\n",
    "                                   'Longitude': lon})\n",
    "        else:\n",
    "            print('Não foi possível encontrar o endereço: ', i)\n",
    "    \n",
    "    coordenadas_df = pd.DataFrame(coordenadas_df)\n",
    "    \n",
    "    dados_consome_api['Latitude'] = coordenadas_df['Latitude']\n",
    "    dados_consome_api['Longitude'] = coordenadas_df['Longitude']\n",
    "    \n",
    "    return dados_consome_api"
   ]
  },
  {
   "cell_type": "code",
   "execution_count": 5,
   "id": "b7fb2831",
   "metadata": {},
   "outputs": [
    {
     "data": {
      "text/html": [
       "<div>\n",
       "<style scoped>\n",
       "    .dataframe tbody tr th:only-of-type {\n",
       "        vertical-align: middle;\n",
       "    }\n",
       "\n",
       "    .dataframe tbody tr th {\n",
       "        vertical-align: top;\n",
       "    }\n",
       "\n",
       "    .dataframe thead th {\n",
       "        text-align: right;\n",
       "    }\n",
       "</style>\n",
       "<table border=\"1\" class=\"dataframe\">\n",
       "  <thead>\n",
       "    <tr style=\"text-align: right;\">\n",
       "      <th></th>\n",
       "      <th>CEP</th>\n",
       "      <th>Localidade</th>\n",
       "      <th>Logradouro</th>\n",
       "      <th>Endereco</th>\n",
       "      <th>UF</th>\n",
       "      <th>DDD</th>\n",
       "      <th>Latitude</th>\n",
       "      <th>Longitude</th>\n",
       "    </tr>\n",
       "  </thead>\n",
       "  <tbody>\n",
       "    <tr>\n",
       "      <th>0</th>\n",
       "      <td>37701-000</td>\n",
       "      <td>Poços de Caldas</td>\n",
       "      <td>Rua Assis Figueiredo</td>\n",
       "      <td>Rua Assis Figueiredo, Poços de Caldas</td>\n",
       "      <td>MG</td>\n",
       "      <td>35</td>\n",
       "      <td>-21.792491</td>\n",
       "      <td>-46.566936</td>\n",
       "    </tr>\n",
       "    <tr>\n",
       "      <th>1</th>\n",
       "      <td>37701-001</td>\n",
       "      <td>Poços de Caldas</td>\n",
       "      <td>Rua Rio Grande do Sul</td>\n",
       "      <td>Rua Rio Grande do Sul, Poços de Caldas</td>\n",
       "      <td>MG</td>\n",
       "      <td>35</td>\n",
       "      <td>-21.779386</td>\n",
       "      <td>-46.563502</td>\n",
       "    </tr>\n",
       "    <tr>\n",
       "      <th>2</th>\n",
       "      <td>37701-002</td>\n",
       "      <td>Poços de Caldas</td>\n",
       "      <td>Praça Doutor Pedro Sanches</td>\n",
       "      <td>Praça Doutor Pedro Sanches, Poços de Caldas</td>\n",
       "      <td>MG</td>\n",
       "      <td>35</td>\n",
       "      <td>-21.786401</td>\n",
       "      <td>-46.568061</td>\n",
       "    </tr>\n",
       "    <tr>\n",
       "      <th>3</th>\n",
       "      <td>37701-004</td>\n",
       "      <td>Poços de Caldas</td>\n",
       "      <td>Rua Minas Gerais</td>\n",
       "      <td>Rua Minas Gerais, Poços de Caldas</td>\n",
       "      <td>MG</td>\n",
       "      <td>35</td>\n",
       "      <td>-21.786552</td>\n",
       "      <td>-46.567718</td>\n",
       "    </tr>\n",
       "    <tr>\n",
       "      <th>4</th>\n",
       "      <td>37701-005</td>\n",
       "      <td>Poços de Caldas</td>\n",
       "      <td>Rua Goiás</td>\n",
       "      <td>Rua Goiás, Poços de Caldas</td>\n",
       "      <td>MG</td>\n",
       "      <td>35</td>\n",
       "      <td>-21.780983</td>\n",
       "      <td>-46.567924</td>\n",
       "    </tr>\n",
       "    <tr>\n",
       "      <th>5</th>\n",
       "      <td>37701-006</td>\n",
       "      <td>Poços de Caldas</td>\n",
       "      <td>Rua Mato Grosso</td>\n",
       "      <td>Rua Mato Grosso, Poços de Caldas</td>\n",
       "      <td>MG</td>\n",
       "      <td>35</td>\n",
       "      <td>-21.782941</td>\n",
       "      <td>-46.569673</td>\n",
       "    </tr>\n",
       "  </tbody>\n",
       "</table>\n",
       "</div>"
      ],
      "text/plain": [
       "         CEP       Localidade                  Logradouro   \n",
       "0  37701-000  Poços de Caldas        Rua Assis Figueiredo  \\\n",
       "1  37701-001  Poços de Caldas       Rua Rio Grande do Sul   \n",
       "2  37701-002  Poços de Caldas  Praça Doutor Pedro Sanches   \n",
       "3  37701-004  Poços de Caldas            Rua Minas Gerais   \n",
       "4  37701-005  Poços de Caldas                   Rua Goiás   \n",
       "5  37701-006  Poços de Caldas             Rua Mato Grosso   \n",

       "\n",
       "                                      Endereco  UF DDD   Latitude  Longitude  \n",
       "0        Rua Assis Figueiredo, Poços de Caldas  MG  35 -21.792491 -46.566936  \n",
       "1       Rua Rio Grande do Sul, Poços de Caldas  MG  35 -21.779386 -46.563502  \n",
       "2  Praça Doutor Pedro Sanches, Poços de Caldas  MG  35 -21.786401 -46.568061  \n",
       "3            Rua Minas Gerais, Poços de Caldas  MG  35 -21.786552 -46.567718  \n",
       "4                   Rua Goiás, Poços de Caldas  MG  35 -21.780983 -46.567924  \n",
       "5             Rua Mato Grosso, Poços de Caldas  MG  35 -21.782941 -46.569673  \n",

      ]
     },
     "execution_count": 5,
     "metadata": {},
     "output_type": "execute_result"
    }
   ],
   "source": [
    "geocoder()"
   ]
  },
  {
   "cell_type": "markdown",
   "id": "af72201a",
   "metadata": {},
   "source": [
    "### Inserindo dados desta tabela no Banco de Dados MySQL"
   ]
  },
  {
   "cell_type": "code",
   "execution_count": 6,
   "id": "9c7ef2db",
   "metadata": {},
   "outputs": [],
   "source": [
    "def input_db():\n",
    "    \n",
    "    dados = geocoder()\n",
    "    \n",
    "    try:\n",
    "        # Conecta ao banco de dados\n",
    "        engine = create_engine('mysql+mysqlconnector://root:@localhost/portfolio')\n",
    "        \n",
    "        # Define os dtypes\n",
    "        dtypes = {'CEP':        VARCHAR(50),\n",
    "                  'Localidade': VARCHAR(50),\n",
    "                  'Logradouro': VARCHAR(50),\n",
    "                  'Endereco':   VARCHAR(150),\n",
    "                  'UF':         VARCHAR(2),\n",
    "                  'DDD':        Integer,\n",
    "                  'Latitude':   VARCHAR(100),\n",
    "                  'Longitude':  VARCHAR(100)}\n",
    "        \n",
    "        # insere os dados na tabela 'geo_location'\n",
    "        dados.to_sql('geo_location', con = engine, if_exists = 'replace', index = False, dtype = dtypes)\n",
    "        \n",
    "        print('Dados inseridos com sucesso!')\n",
    "        print('Total de registros inclusos: ', len(dados))\n",
    "        \n",
    "        # Consulta que retorna quantidade de registros na tabela\n",
    "       # conn = engine.connect()\n",
    "        query = 'SELECT count(1) FROM geo_location'\n",
    "        result_query = engine.execute(query).fetchone()\n",
    "        \n",
    "        print('Total de registros na tabela: ', result_query[0])\n",
    "\n",
    "\n",
    "    except mysql.connector.Error as err:\n",
    "        print('Erro ao conectar ou interagir com o banco de dados.', err)"
   ]
  },
  {
   "cell_type": "code",
   "execution_count": 7,
   "id": "41e40641",
   "metadata": {},
   "outputs": [
    {
     "name": "stdout",
     "output_type": "stream",
     "text": [
      "Dados inseridos com sucesso!\n",
      "Total de registros inclusos:  9\n",
      "Total de registros na tabela:  9\n"
     ]
    }
   ],
   "source": [
    "input_db()"
   ]
  }
 ],
 "metadata": {
  "kernelspec": {
   "display_name": "Python 3 (ipykernel)",
   "language": "python",
   "name": "python3"
  },
  "language_info": {
   "codemirror_mode": {
    "name": "ipython",
    "version": 3
   },
   "file_extension": ".py",
   "mimetype": "text/x-python",
   "name": "python",
   "nbconvert_exporter": "python",
   "pygments_lexer": "ipython3",
   "version": "3.10.9"
  }
 },
 "nbformat": 4,
 "nbformat_minor": 5
}
